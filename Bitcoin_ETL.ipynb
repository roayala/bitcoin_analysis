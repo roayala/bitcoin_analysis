{
 "cells": [
  {
   "cell_type": "code",
   "execution_count": 1,
   "metadata": {},
   "outputs": [],
   "source": [
    "import pandas as pd\n",
    "from sqlalchemy import create_engine"
   ]
  },
  {
   "cell_type": "code",
   "execution_count": 47,
   "metadata": {},
   "outputs": [],
   "source": [
    "import numpy as np"
   ]
  },
  {
   "cell_type": "markdown",
   "metadata": {},
   "source": [
    "# Extract CSV into Data Frames"
   ]
  },
  {
   "cell_type": "code",
   "execution_count": 102,
   "metadata": {},
   "outputs": [],
   "source": [
    "bitcoin_file = \"/Users/roas/Desktop/ETL_project/resources/bitcoin_dataset.csv\""
   ]
  },
  {
   "cell_type": "code",
   "execution_count": 103,
   "metadata": {},
   "outputs": [],
   "source": [
    "tcp_dollar_peso_file = '/Users/roas/Desktop/ETL_project/resources/tpc_11_19.csv'"
   ]
  },
  {
   "cell_type": "code",
   "execution_count": 24,
   "metadata": {},
   "outputs": [],
   "source": [
    "bitcoin_df = pd.read_csv(bitcoin_file)"
   ]
  },
  {
   "cell_type": "code",
   "execution_count": 104,
   "metadata": {},
   "outputs": [],
   "source": [
    "tcp_df = pd.read_csv(tcp_dollar_peso_file)"
   ]
  },
  {
   "cell_type": "code",
   "execution_count": 28,
   "metadata": {},
   "outputs": [
    {
     "data": {
      "text/html": [
       "<div>\n",
       "<style scoped>\n",
       "    .dataframe tbody tr th:only-of-type {\n",
       "        vertical-align: middle;\n",
       "    }\n",
       "\n",
       "    .dataframe tbody tr th {\n",
       "        vertical-align: top;\n",
       "    }\n",
       "\n",
       "    .dataframe thead th {\n",
       "        text-align: right;\n",
       "    }\n",
       "</style>\n",
       "<table border=\"1\" class=\"dataframe\">\n",
       "  <thead>\n",
       "    <tr style=\"text-align: right;\">\n",
       "      <th></th>\n",
       "      <th>Date</th>\n",
       "      <th>btc_market_price</th>\n",
       "      <th>btc_total_bitcoins</th>\n",
       "      <th>btc_market_cap</th>\n",
       "      <th>btc_trade_volume</th>\n",
       "      <th>btc_blocks_size</th>\n",
       "      <th>btc_avg_block_size</th>\n",
       "      <th>btc_n_orphaned_blocks</th>\n",
       "      <th>btc_n_transactions_per_block</th>\n",
       "      <th>btc_median_confirmation_time</th>\n",
       "      <th>...</th>\n",
       "      <th>btc_cost_per_transaction_percent</th>\n",
       "      <th>btc_cost_per_transaction</th>\n",
       "      <th>btc_n_unique_addresses</th>\n",
       "      <th>btc_n_transactions</th>\n",
       "      <th>btc_n_transactions_total</th>\n",
       "      <th>btc_n_transactions_excluding_popular</th>\n",
       "      <th>btc_n_transactions_excluding_chains_longer_than_100</th>\n",
       "      <th>btc_output_volume</th>\n",
       "      <th>btc_estimated_transaction_volume</th>\n",
       "      <th>btc_estimated_transaction_volume_usd</th>\n",
       "    </tr>\n",
       "  </thead>\n",
       "  <tbody>\n",
       "    <tr>\n",
       "      <th>0</th>\n",
       "      <td>2010-02-23 00:00:00</td>\n",
       "      <td>0.0</td>\n",
       "      <td>2110700.0</td>\n",
       "      <td>0.0</td>\n",
       "      <td>0.0</td>\n",
       "      <td>0.0</td>\n",
       "      <td>0.000216</td>\n",
       "      <td>0.0</td>\n",
       "      <td>1.0</td>\n",
       "      <td>0.0</td>\n",
       "      <td>...</td>\n",
       "      <td>25100.000000</td>\n",
       "      <td>0.0</td>\n",
       "      <td>252.0</td>\n",
       "      <td>252.0</td>\n",
       "      <td>42613.0</td>\n",
       "      <td>252.0</td>\n",
       "      <td>252.0</td>\n",
       "      <td>12600.0</td>\n",
       "      <td>50.0</td>\n",
       "      <td>0.0</td>\n",
       "    </tr>\n",
       "    <tr>\n",
       "      <th>1</th>\n",
       "      <td>2010-02-24 00:00:00</td>\n",
       "      <td>0.0</td>\n",
       "      <td>2120200.0</td>\n",
       "      <td>0.0</td>\n",
       "      <td>0.0</td>\n",
       "      <td>0.0</td>\n",
       "      <td>0.000282</td>\n",
       "      <td>0.0</td>\n",
       "      <td>1.0</td>\n",
       "      <td>0.0</td>\n",
       "      <td>...</td>\n",
       "      <td>179.245283</td>\n",
       "      <td>0.0</td>\n",
       "      <td>195.0</td>\n",
       "      <td>196.0</td>\n",
       "      <td>42809.0</td>\n",
       "      <td>196.0</td>\n",
       "      <td>196.0</td>\n",
       "      <td>14800.0</td>\n",
       "      <td>5300.0</td>\n",
       "      <td>0.0</td>\n",
       "    </tr>\n",
       "  </tbody>\n",
       "</table>\n",
       "<p>2 rows × 24 columns</p>\n",
       "</div>"
      ],
      "text/plain": [
       "                  Date  btc_market_price  btc_total_bitcoins  btc_market_cap  \\\n",
       "0  2010-02-23 00:00:00               0.0           2110700.0             0.0   \n",
       "1  2010-02-24 00:00:00               0.0           2120200.0             0.0   \n",
       "\n",
       "   btc_trade_volume  btc_blocks_size  btc_avg_block_size  \\\n",
       "0               0.0              0.0            0.000216   \n",
       "1               0.0              0.0            0.000282   \n",
       "\n",
       "   btc_n_orphaned_blocks  btc_n_transactions_per_block  \\\n",
       "0                    0.0                           1.0   \n",
       "1                    0.0                           1.0   \n",
       "\n",
       "   btc_median_confirmation_time  ...  btc_cost_per_transaction_percent  \\\n",
       "0                           0.0  ...                      25100.000000   \n",
       "1                           0.0  ...                        179.245283   \n",
       "\n",
       "   btc_cost_per_transaction  btc_n_unique_addresses  btc_n_transactions  \\\n",
       "0                       0.0                   252.0               252.0   \n",
       "1                       0.0                   195.0               196.0   \n",
       "\n",
       "   btc_n_transactions_total  btc_n_transactions_excluding_popular  \\\n",
       "0                   42613.0                                 252.0   \n",
       "1                   42809.0                                 196.0   \n",
       "\n",
       "   btc_n_transactions_excluding_chains_longer_than_100  btc_output_volume  \\\n",
       "0                                              252.0              12600.0   \n",
       "1                                              196.0              14800.0   \n",
       "\n",
       "   btc_estimated_transaction_volume  btc_estimated_transaction_volume_usd  \n",
       "0                              50.0                                   0.0  \n",
       "1                            5300.0                                   0.0  \n",
       "\n",
       "[2 rows x 24 columns]"
      ]
     },
     "execution_count": 28,
     "metadata": {},
     "output_type": "execute_result"
    }
   ],
   "source": [
    "bitcoin_df.head(2)"
   ]
  },
  {
   "cell_type": "code",
   "execution_count": 33,
   "metadata": {},
   "outputs": [
    {
     "data": {
      "text/plain": [
       "Index(['Date', 'btc_market_price', 'btc_total_bitcoins', 'btc_market_cap',\n",
       "       'btc_trade_volume', 'btc_blocks_size', 'btc_avg_block_size',\n",
       "       'btc_n_orphaned_blocks', 'btc_n_transactions_per_block',\n",
       "       'btc_median_confirmation_time', 'btc_hash_rate', 'btc_difficulty',\n",
       "       'btc_miners_revenue', 'btc_transaction_fees',\n",
       "       'btc_cost_per_transaction_percent', 'btc_cost_per_transaction',\n",
       "       'btc_n_unique_addresses', 'btc_n_transactions',\n",
       "       'btc_n_transactions_total', 'btc_n_transactions_excluding_popular',\n",
       "       'btc_n_transactions_excluding_chains_longer_than_100',\n",
       "       'btc_output_volume', 'btc_estimated_transaction_volume',\n",
       "       'btc_estimated_transaction_volume_usd'],\n",
       "      dtype='object')"
      ]
     },
     "execution_count": 33,
     "metadata": {},
     "output_type": "execute_result"
    }
   ],
   "source": [
    "bitcoin_df.columns"
   ]
  },
  {
   "cell_type": "code",
   "execution_count": null,
   "metadata": {},
   "outputs": [],
   "source": []
  },
  {
   "cell_type": "code",
   "execution_count": 30,
   "metadata": {},
   "outputs": [
    {
     "data": {
      "text/html": [
       "<div>\n",
       "<style scoped>\n",
       "    .dataframe tbody tr th:only-of-type {\n",
       "        vertical-align: middle;\n",
       "    }\n",
       "\n",
       "    .dataframe tbody tr th {\n",
       "        vertical-align: top;\n",
       "    }\n",
       "\n",
       "    .dataframe thead th {\n",
       "        text-align: right;\n",
       "    }\n",
       "</style>\n",
       "<table border=\"1\" class=\"dataframe\">\n",
       "  <thead>\n",
       "    <tr style=\"text-align: right;\">\n",
       "      <th></th>\n",
       "      <th>Fecha</th>\n",
       "      <th>Dolar</th>\n",
       "    </tr>\n",
       "  </thead>\n",
       "  <tbody>\n",
       "    <tr>\n",
       "      <th>0</th>\n",
       "      <td>03/01/11</td>\n",
       "      <td>12.2574</td>\n",
       "    </tr>\n",
       "    <tr>\n",
       "      <th>1</th>\n",
       "      <td>04/01/11</td>\n",
       "      <td>12.2619</td>\n",
       "    </tr>\n",
       "  </tbody>\n",
       "</table>\n",
       "</div>"
      ],
      "text/plain": [
       "      Fecha    Dolar\n",
       "0  03/01/11  12.2574\n",
       "1  04/01/11  12.2619"
      ]
     },
     "execution_count": 30,
     "metadata": {},
     "output_type": "execute_result"
    }
   ],
   "source": [
    "tcp_df.head(2)"
   ]
  },
  {
   "cell_type": "markdown",
   "metadata": {},
   "source": [
    "# Transform Data Frame"
   ]
  },
  {
   "cell_type": "markdown",
   "metadata": {},
   "source": [
    "Date     btc_market_price      btc_total_bitcoins     btc_cost_per_transaction_percent    btc_n_transactions_total"
   ]
  },
  {
   "cell_type": "code",
   "execution_count": 51,
   "metadata": {},
   "outputs": [],
   "source": [
    "new_bitcoin_df = bitcoin_df.copy()"
   ]
  },
  {
   "cell_type": "code",
   "execution_count": 52,
   "metadata": {},
   "outputs": [],
   "source": [
    "columns_remove = [ 'btc_market_cap',\n",
    "       'btc_trade_volume', 'btc_blocks_size', 'btc_avg_block_size',\n",
    "       'btc_n_orphaned_blocks', 'btc_n_transactions_per_block',\n",
    "       'btc_median_confirmation_time', 'btc_hash_rate', 'btc_difficulty',\n",
    "       'btc_miners_revenue', 'btc_transaction_fees','btc_n_unique_addresses', 'btc_n_transactions',\n",
    "       'btc_n_transactions_excluding_popular',\n",
    "       'btc_n_transactions_excluding_chains_longer_than_100',\n",
    "       'btc_output_volume', 'btc_estimated_transaction_volume']"
   ]
  },
  {
   "cell_type": "code",
   "execution_count": 53,
   "metadata": {},
   "outputs": [],
   "source": [
    "new_bitcoin_df.drop(columns_remove, axis = 1, inplace = True)"
   ]
  },
  {
   "cell_type": "code",
   "execution_count": 54,
   "metadata": {},
   "outputs": [
    {
     "data": {
      "text/plain": [
       "Index(['Date', 'btc_market_price', 'btc_total_bitcoins',\n",
       "       'btc_cost_per_transaction_percent', 'btc_cost_per_transaction',\n",
       "       'btc_n_transactions_total', 'btc_estimated_transaction_volume_usd'],\n",
       "      dtype='object')"
      ]
     },
     "execution_count": 54,
     "metadata": {},
     "output_type": "execute_result"
    }
   ],
   "source": [
    "new_bitcoin_df.columns"
   ]
  },
  {
   "cell_type": "code",
   "execution_count": 55,
   "metadata": {},
   "outputs": [
    {
     "data": {
      "text/plain": [
       "Date                                     object\n",
       "btc_market_price                        float64\n",
       "btc_total_bitcoins                      float64\n",
       "btc_cost_per_transaction_percent        float64\n",
       "btc_cost_per_transaction                float64\n",
       "btc_n_transactions_total                float64\n",
       "btc_estimated_transaction_volume_usd    float64\n",
       "dtype: object"
      ]
     },
     "execution_count": 55,
     "metadata": {},
     "output_type": "execute_result"
    }
   ],
   "source": [
    "\n",
    "new_bitcoin_df.dtypes"
   ]
  },
  {
   "cell_type": "code",
   "execution_count": 56,
   "metadata": {},
   "outputs": [],
   "source": [
    "new_bitcoin_df['Date'] = pd.to_datetime(new_bitcoin_df['Date'])"
   ]
  },
  {
   "cell_type": "code",
   "execution_count": 57,
   "metadata": {},
   "outputs": [
    {
     "data": {
      "text/plain": [
       "Date                                    datetime64[ns]\n",
       "btc_market_price                               float64\n",
       "btc_total_bitcoins                             float64\n",
       "btc_cost_per_transaction_percent               float64\n",
       "btc_cost_per_transaction                       float64\n",
       "btc_n_transactions_total                       float64\n",
       "btc_estimated_transaction_volume_usd           float64\n",
       "dtype: object"
      ]
     },
     "execution_count": 57,
     "metadata": {},
     "output_type": "execute_result"
    }
   ],
   "source": [
    "new_bitcoin_df.dtypes"
   ]
  },
  {
   "cell_type": "code",
   "execution_count": 58,
   "metadata": {},
   "outputs": [
    {
     "data": {
      "text/plain": [
       "Timestamp('2010-02-23 00:00:00')"
      ]
     },
     "execution_count": 58,
     "metadata": {},
     "output_type": "execute_result"
    }
   ],
   "source": [
    "new_bitcoin_df['Date'].min()"
   ]
  },
  {
   "cell_type": "code",
   "execution_count": 59,
   "metadata": {},
   "outputs": [
    {
     "data": {
      "text/plain": [
       "Timestamp('2018-02-20 00:00:00')"
      ]
     },
     "execution_count": 59,
     "metadata": {},
     "output_type": "execute_result"
    }
   ],
   "source": [
    "new_bitcoin_df['Date'].max()"
   ]
  },
  {
   "cell_type": "code",
   "execution_count": 61,
   "metadata": {},
   "outputs": [
    {
     "data": {
      "text/plain": [
       "2920"
      ]
     },
     "execution_count": 61,
     "metadata": {},
     "output_type": "execute_result"
    }
   ],
   "source": [
    "new_bitcoin_df['Date'].nunique()"
   ]
  },
  {
   "cell_type": "markdown",
   "metadata": {},
   "source": [
    "### Review TCP Data Frame to leave it with the same period of time"
   ]
  },
  {
   "cell_type": "code",
   "execution_count": 105,
   "metadata": {},
   "outputs": [
    {
     "data": {
      "text/plain": [
       "Fecha     object\n",
       "Dolar    float64\n",
       "dtype: object"
      ]
     },
     "execution_count": 105,
     "metadata": {},
     "output_type": "execute_result"
    }
   ],
   "source": [
    "tcp_df.dtypes"
   ]
  },
  {
   "cell_type": "code",
   "execution_count": 106,
   "metadata": {},
   "outputs": [],
   "source": [
    "tcp_df['Fecha'] = pd.to_datetime(tcp_df['Fecha'])"
   ]
  },
  {
   "cell_type": "code",
   "execution_count": 107,
   "metadata": {},
   "outputs": [
    {
     "data": {
      "text/plain": [
       "Fecha    datetime64[ns]\n",
       "Dolar           float64\n",
       "dtype: object"
      ]
     },
     "execution_count": 107,
     "metadata": {},
     "output_type": "execute_result"
    }
   ],
   "source": [
    "tcp_df.dtypes"
   ]
  },
  {
   "cell_type": "code",
   "execution_count": 67,
   "metadata": {},
   "outputs": [
    {
     "data": {
      "text/plain": [
       "Timestamp('2011-01-02 00:00:00')"
      ]
     },
     "execution_count": 67,
     "metadata": {},
     "output_type": "execute_result"
    }
   ],
   "source": [
    "tcp_df['Fecha'].min()"
   ]
  },
  {
   "cell_type": "code",
   "execution_count": 68,
   "metadata": {},
   "outputs": [
    {
     "data": {
      "text/plain": [
       "Timestamp('2019-12-06 00:00:00')"
      ]
     },
     "execution_count": 68,
     "metadata": {},
     "output_type": "execute_result"
    }
   ],
   "source": [
    "tcp_df['Fecha'].max()"
   ]
  },
  {
   "cell_type": "markdown",
   "metadata": {},
   "source": [
    "### The dates while start at 2011-01-02 and will end 2018-02-20 for both datasets"
   ]
  },
  {
   "cell_type": "code",
   "execution_count": 71,
   "metadata": {},
   "outputs": [],
   "source": [
    "new_bitcoin_df.set_index('Date', inplace=True)"
   ]
  },
  {
   "cell_type": "code",
   "execution_count": 72,
   "metadata": {},
   "outputs": [
    {
     "data": {
      "text/html": [
       "<div>\n",
       "<style scoped>\n",
       "    .dataframe tbody tr th:only-of-type {\n",
       "        vertical-align: middle;\n",
       "    }\n",
       "\n",
       "    .dataframe tbody tr th {\n",
       "        vertical-align: top;\n",
       "    }\n",
       "\n",
       "    .dataframe thead th {\n",
       "        text-align: right;\n",
       "    }\n",
       "</style>\n",
       "<table border=\"1\" class=\"dataframe\">\n",
       "  <thead>\n",
       "    <tr style=\"text-align: right;\">\n",
       "      <th></th>\n",
       "      <th>btc_market_price</th>\n",
       "      <th>btc_total_bitcoins</th>\n",
       "      <th>btc_cost_per_transaction_percent</th>\n",
       "      <th>btc_cost_per_transaction</th>\n",
       "      <th>btc_n_transactions_total</th>\n",
       "      <th>btc_estimated_transaction_volume_usd</th>\n",
       "    </tr>\n",
       "    <tr>\n",
       "      <th>Date</th>\n",
       "      <th></th>\n",
       "      <th></th>\n",
       "      <th></th>\n",
       "      <th></th>\n",
       "      <th></th>\n",
       "      <th></th>\n",
       "    </tr>\n",
       "  </thead>\n",
       "  <tbody>\n",
       "    <tr>\n",
       "      <th>2010-02-23</th>\n",
       "      <td>0.0</td>\n",
       "      <td>2110700.0</td>\n",
       "      <td>25100.000000</td>\n",
       "      <td>0.0</td>\n",
       "      <td>42613.0</td>\n",
       "      <td>0.0</td>\n",
       "    </tr>\n",
       "    <tr>\n",
       "      <th>2010-02-24</th>\n",
       "      <td>0.0</td>\n",
       "      <td>2120200.0</td>\n",
       "      <td>179.245283</td>\n",
       "      <td>0.0</td>\n",
       "      <td>42809.0</td>\n",
       "      <td>0.0</td>\n",
       "    </tr>\n",
       "    <tr>\n",
       "      <th>2010-02-25</th>\n",
       "      <td>0.0</td>\n",
       "      <td>2127600.0</td>\n",
       "      <td>1057.142857</td>\n",
       "      <td>0.0</td>\n",
       "      <td>42959.0</td>\n",
       "      <td>0.0</td>\n",
       "    </tr>\n",
       "    <tr>\n",
       "      <th>2010-02-26</th>\n",
       "      <td>0.0</td>\n",
       "      <td>2136100.0</td>\n",
       "      <td>64.582059</td>\n",
       "      <td>0.0</td>\n",
       "      <td>43135.0</td>\n",
       "      <td>0.0</td>\n",
       "    </tr>\n",
       "    <tr>\n",
       "      <th>2010-02-27</th>\n",
       "      <td>0.0</td>\n",
       "      <td>2144750.0</td>\n",
       "      <td>1922.222222</td>\n",
       "      <td>0.0</td>\n",
       "      <td>43311.0</td>\n",
       "      <td>0.0</td>\n",
       "    </tr>\n",
       "  </tbody>\n",
       "</table>\n",
       "</div>"
      ],
      "text/plain": [
       "            btc_market_price  btc_total_bitcoins  \\\n",
       "Date                                               \n",
       "2010-02-23               0.0           2110700.0   \n",
       "2010-02-24               0.0           2120200.0   \n",
       "2010-02-25               0.0           2127600.0   \n",
       "2010-02-26               0.0           2136100.0   \n",
       "2010-02-27               0.0           2144750.0   \n",
       "\n",
       "            btc_cost_per_transaction_percent  btc_cost_per_transaction  \\\n",
       "Date                                                                     \n",
       "2010-02-23                      25100.000000                       0.0   \n",
       "2010-02-24                        179.245283                       0.0   \n",
       "2010-02-25                       1057.142857                       0.0   \n",
       "2010-02-26                         64.582059                       0.0   \n",
       "2010-02-27                       1922.222222                       0.0   \n",
       "\n",
       "            btc_n_transactions_total  btc_estimated_transaction_volume_usd  \n",
       "Date                                                                        \n",
       "2010-02-23                   42613.0                                   0.0  \n",
       "2010-02-24                   42809.0                                   0.0  \n",
       "2010-02-25                   42959.0                                   0.0  \n",
       "2010-02-26                   43135.0                                   0.0  \n",
       "2010-02-27                   43311.0                                   0.0  "
      ]
     },
     "execution_count": 72,
     "metadata": {},
     "output_type": "execute_result"
    }
   ],
   "source": [
    "new_bitcoin_df.head(5)"
   ]
  },
  {
   "cell_type": "code",
   "execution_count": 77,
   "metadata": {},
   "outputs": [
    {
     "data": {
      "text/html": [
       "<div>\n",
       "<style scoped>\n",
       "    .dataframe tbody tr th:only-of-type {\n",
       "        vertical-align: middle;\n",
       "    }\n",
       "\n",
       "    .dataframe tbody tr th {\n",
       "        vertical-align: top;\n",
       "    }\n",
       "\n",
       "    .dataframe thead th {\n",
       "        text-align: right;\n",
       "    }\n",
       "</style>\n",
       "<table border=\"1\" class=\"dataframe\">\n",
       "  <thead>\n",
       "    <tr style=\"text-align: right;\">\n",
       "      <th></th>\n",
       "      <th>btc_market_price</th>\n",
       "      <th>btc_total_bitcoins</th>\n",
       "      <th>btc_cost_per_transaction_percent</th>\n",
       "      <th>btc_cost_per_transaction</th>\n",
       "      <th>btc_n_transactions_total</th>\n",
       "      <th>btc_estimated_transaction_volume_usd</th>\n",
       "    </tr>\n",
       "    <tr>\n",
       "      <th>Date</th>\n",
       "      <th></th>\n",
       "      <th></th>\n",
       "      <th></th>\n",
       "      <th></th>\n",
       "      <th></th>\n",
       "      <th></th>\n",
       "    </tr>\n",
       "  </thead>\n",
       "  <tbody>\n",
       "    <tr>\n",
       "      <th>2011-01-02</th>\n",
       "      <td>0.299996</td>\n",
       "      <td>5036250.0</td>\n",
       "      <td>54.382899</td>\n",
       "      <td>4.553059</td>\n",
       "      <td>219086.0</td>\n",
       "      <td>4.965000e+03</td>\n",
       "    </tr>\n",
       "    <tr>\n",
       "      <th>2011-01-03</th>\n",
       "      <td>0.299998</td>\n",
       "      <td>5044450.0</td>\n",
       "      <td>50.784056</td>\n",
       "      <td>2.883920</td>\n",
       "      <td>219939.0</td>\n",
       "      <td>4.844000e+03</td>\n",
       "    </tr>\n",
       "    <tr>\n",
       "      <th>2011-01-04</th>\n",
       "      <td>0.299899</td>\n",
       "      <td>5051550.0</td>\n",
       "      <td>23.791228</td>\n",
       "      <td>1.714398</td>\n",
       "      <td>221181.0</td>\n",
       "      <td>8.950000e+03</td>\n",
       "    </tr>\n",
       "    <tr>\n",
       "      <th>2011-01-05</th>\n",
       "      <td>0.298998</td>\n",
       "      <td>5059050.0</td>\n",
       "      <td>47.252878</td>\n",
       "      <td>1.881279</td>\n",
       "      <td>222373.0</td>\n",
       "      <td>4.746000e+03</td>\n",
       "    </tr>\n",
       "    <tr>\n",
       "      <th>2011-01-06</th>\n",
       "      <td>0.299000</td>\n",
       "      <td>5066400.0</td>\n",
       "      <td>43.499052</td>\n",
       "      <td>2.585471</td>\n",
       "      <td>223223.0</td>\n",
       "      <td>5.052000e+03</td>\n",
       "    </tr>\n",
       "    <tr>\n",
       "      <th>2011-01-07</th>\n",
       "      <td>0.322000</td>\n",
       "      <td>5073600.0</td>\n",
       "      <td>43.711935</td>\n",
       "      <td>2.634545</td>\n",
       "      <td>224103.0</td>\n",
       "      <td>5.304000e+03</td>\n",
       "    </tr>\n",
       "    <tr>\n",
       "      <th>2011-01-08</th>\n",
       "      <td>0.322898</td>\n",
       "      <td>5083200.0</td>\n",
       "      <td>33.636942</td>\n",
       "      <td>2.226883</td>\n",
       "      <td>225495.0</td>\n",
       "      <td>9.216000e+03</td>\n",
       "    </tr>\n",
       "    <tr>\n",
       "      <th>2011-01-09</th>\n",
       "      <td>0.322998</td>\n",
       "      <td>5090800.0</td>\n",
       "      <td>49.906015</td>\n",
       "      <td>2.057657</td>\n",
       "      <td>226688.0</td>\n",
       "      <td>4.919000e+03</td>\n",
       "    </tr>\n",
       "    <tr>\n",
       "      <th>2011-01-10</th>\n",
       "      <td>0.329000</td>\n",
       "      <td>5099150.0</td>\n",
       "      <td>28.590946</td>\n",
       "      <td>2.022938</td>\n",
       "      <td>228046.0</td>\n",
       "      <td>9.608000e+03</td>\n",
       "    </tr>\n",
       "    <tr>\n",
       "      <th>2011-01-11</th>\n",
       "      <td>0.329000</td>\n",
       "      <td>5107250.0</td>\n",
       "      <td>24.393742</td>\n",
       "      <td>2.111648</td>\n",
       "      <td>229308.0</td>\n",
       "      <td>1.092500e+04</td>\n",
       "    </tr>\n",
       "    <tr>\n",
       "      <th>2011-01-12</th>\n",
       "      <td>0.350000</td>\n",
       "      <td>5115600.0</td>\n",
       "      <td>15.380039</td>\n",
       "      <td>2.370235</td>\n",
       "      <td>230541.0</td>\n",
       "      <td>1.900200e+04</td>\n",
       "    </tr>\n",
       "    <tr>\n",
       "      <th>2011-01-13</th>\n",
       "      <td>0.405000</td>\n",
       "      <td>5124850.0</td>\n",
       "      <td>30.693697</td>\n",
       "      <td>2.947482</td>\n",
       "      <td>231812.0</td>\n",
       "      <td>1.220500e+04</td>\n",
       "    </tr>\n",
       "    <tr>\n",
       "      <th>2011-01-14</th>\n",
       "      <td>0.450000</td>\n",
       "      <td>5133550.0</td>\n",
       "      <td>18.692768</td>\n",
       "      <td>3.046693</td>\n",
       "      <td>233097.0</td>\n",
       "      <td>2.094400e+04</td>\n",
       "    </tr>\n",
       "    <tr>\n",
       "      <th>2011-01-15</th>\n",
       "      <td>0.400000</td>\n",
       "      <td>5142150.0</td>\n",
       "      <td>17.497831</td>\n",
       "      <td>3.690987</td>\n",
       "      <td>234029.0</td>\n",
       "      <td>1.966000e+04</td>\n",
       "    </tr>\n",
       "    <tr>\n",
       "      <th>2011-01-16</th>\n",
       "      <td>0.400000</td>\n",
       "      <td>5150800.0</td>\n",
       "      <td>60.784543</td>\n",
       "      <td>3.369036</td>\n",
       "      <td>235056.0</td>\n",
       "      <td>5.692000e+03</td>\n",
       "    </tr>\n",
       "    <tr>\n",
       "      <th>2011-01-17</th>\n",
       "      <td>0.400000</td>\n",
       "      <td>5159450.0</td>\n",
       "      <td>16.284036</td>\n",
       "      <td>4.240196</td>\n",
       "      <td>235872.0</td>\n",
       "      <td>2.124800e+04</td>\n",
       "    </tr>\n",
       "    <tr>\n",
       "      <th>2011-01-18</th>\n",
       "      <td>0.386790</td>\n",
       "      <td>5167250.0</td>\n",
       "      <td>17.388300</td>\n",
       "      <td>3.467772</td>\n",
       "      <td>236742.0</td>\n",
       "      <td>1.735100e+04</td>\n",
       "    </tr>\n",
       "    <tr>\n",
       "      <th>2011-01-19</th>\n",
       "      <td>0.340100</td>\n",
       "      <td>5176100.0</td>\n",
       "      <td>21.160688</td>\n",
       "      <td>3.112601</td>\n",
       "      <td>237709.0</td>\n",
       "      <td>1.422400e+04</td>\n",
       "    </tr>\n",
       "    <tr>\n",
       "      <th>2011-01-20</th>\n",
       "      <td>0.367500</td>\n",
       "      <td>5184500.0</td>\n",
       "      <td>21.474567</td>\n",
       "      <td>3.644628</td>\n",
       "      <td>238556.0</td>\n",
       "      <td>1.437500e+04</td>\n",
       "    </tr>\n",
       "    <tr>\n",
       "      <th>2011-01-21</th>\n",
       "      <td>0.440000</td>\n",
       "      <td>5193400.0</td>\n",
       "      <td>40.215899</td>\n",
       "      <td>3.740210</td>\n",
       "      <td>239603.0</td>\n",
       "      <td>9.737000e+03</td>\n",
       "    </tr>\n",
       "    <tr>\n",
       "      <th>2011-01-22</th>\n",
       "      <td>0.429900</td>\n",
       "      <td>5201600.0</td>\n",
       "      <td>27.235500</td>\n",
       "      <td>2.463438</td>\n",
       "      <td>241034.0</td>\n",
       "      <td>1.294300e+04</td>\n",
       "    </tr>\n",
       "    <tr>\n",
       "      <th>2011-01-23</th>\n",
       "      <td>0.444300</td>\n",
       "      <td>5210100.0</td>\n",
       "      <td>20.577153</td>\n",
       "      <td>3.519618</td>\n",
       "      <td>242107.0</td>\n",
       "      <td>1.835300e+04</td>\n",
       "    </tr>\n",
       "    <tr>\n",
       "      <th>2011-01-24</th>\n",
       "      <td>0.443000</td>\n",
       "      <td>5219100.0</td>\n",
       "      <td>27.566833</td>\n",
       "      <td>2.988756</td>\n",
       "      <td>243441.0</td>\n",
       "      <td>1.446300e+04</td>\n",
       "    </tr>\n",
       "    <tr>\n",
       "      <th>2011-01-25</th>\n",
       "      <td>0.425000</td>\n",
       "      <td>5226900.0</td>\n",
       "      <td>34.556762</td>\n",
       "      <td>3.435233</td>\n",
       "      <td>244406.0</td>\n",
       "      <td>9.593000e+03</td>\n",
       "    </tr>\n",
       "    <tr>\n",
       "      <th>2011-01-26</th>\n",
       "      <td>0.425000</td>\n",
       "      <td>5236650.0</td>\n",
       "      <td>49.602652</td>\n",
       "      <td>4.206853</td>\n",
       "      <td>245391.0</td>\n",
       "      <td>8.354000e+03</td>\n",
       "    </tr>\n",
       "    <tr>\n",
       "      <th>2011-01-27</th>\n",
       "      <td>0.417400</td>\n",
       "      <td>5244650.0</td>\n",
       "      <td>1.367418</td>\n",
       "      <td>3.710222</td>\n",
       "      <td>246291.0</td>\n",
       "      <td>2.441970e+05</td>\n",
       "    </tr>\n",
       "    <tr>\n",
       "      <th>2011-01-28</th>\n",
       "      <td>0.450000</td>\n",
       "      <td>5252800.0</td>\n",
       "      <td>4.826765</td>\n",
       "      <td>3.540058</td>\n",
       "      <td>247327.0</td>\n",
       "      <td>7.598300e+04</td>\n",
       "    </tr>\n",
       "    <tr>\n",
       "      <th>2011-01-29</th>\n",
       "      <td>0.446000</td>\n",
       "      <td>5260300.0</td>\n",
       "      <td>37.050485</td>\n",
       "      <td>2.593023</td>\n",
       "      <td>248617.0</td>\n",
       "      <td>9.028000e+03</td>\n",
       "    </tr>\n",
       "    <tr>\n",
       "      <th>2011-01-30</th>\n",
       "      <td>0.480000</td>\n",
       "      <td>5268500.0</td>\n",
       "      <td>55.346441</td>\n",
       "      <td>1.786655</td>\n",
       "      <td>250820.0</td>\n",
       "      <td>7.112000e+03</td>\n",
       "    </tr>\n",
       "    <tr>\n",
       "      <th>2011-01-31</th>\n",
       "      <td>0.500000</td>\n",
       "      <td>5276000.0</td>\n",
       "      <td>33.911543</td>\n",
       "      <td>2.066942</td>\n",
       "      <td>252635.0</td>\n",
       "      <td>1.106300e+04</td>\n",
       "    </tr>\n",
       "    <tr>\n",
       "      <th>...</th>\n",
       "      <td>...</td>\n",
       "      <td>...</td>\n",
       "      <td>...</td>\n",
       "      <td>...</td>\n",
       "      <td>...</td>\n",
       "      <td>...</td>\n",
       "    </tr>\n",
       "    <tr>\n",
       "      <th>2018-01-22</th>\n",
       "      <td>10544.593333</td>\n",
       "      <td>16820025.0</td>\n",
       "      <td>1.206450</td>\n",
       "      <td>103.148288</td>\n",
       "      <td>294629301.0</td>\n",
       "      <td>2.099491e+09</td>\n",
       "    </tr>\n",
       "    <tr>\n",
       "      <th>2018-01-23</th>\n",
       "      <td>11223.064000</td>\n",
       "      <td>16822237.5</td>\n",
       "      <td>1.399833</td>\n",
       "      <td>103.113799</td>\n",
       "      <td>294901237.0</td>\n",
       "      <td>2.003121e+09</td>\n",
       "    </tr>\n",
       "    <tr>\n",
       "      <th>2018-01-24</th>\n",
       "      <td>11282.258333</td>\n",
       "      <td>16824437.5</td>\n",
       "      <td>1.333913</td>\n",
       "      <td>111.888553</td>\n",
       "      <td>295151660.0</td>\n",
       "      <td>2.100547e+09</td>\n",
       "    </tr>\n",
       "    <tr>\n",
       "      <th>2018-01-25</th>\n",
       "      <td>11214.440000</td>\n",
       "      <td>16826412.5</td>\n",
       "      <td>1.159855</td>\n",
       "      <td>104.088588</td>\n",
       "      <td>295388240.0</td>\n",
       "      <td>2.123135e+09</td>\n",
       "    </tr>\n",
       "    <tr>\n",
       "      <th>2018-01-26</th>\n",
       "      <td>10969.815000</td>\n",
       "      <td>16828350.0</td>\n",
       "      <td>0.834349</td>\n",
       "      <td>106.814230</td>\n",
       "      <td>295608699.0</td>\n",
       "      <td>2.822338e+09</td>\n",
       "    </tr>\n",
       "    <tr>\n",
       "      <th>2018-01-27</th>\n",
       "      <td>11524.776667</td>\n",
       "      <td>16830312.5</td>\n",
       "      <td>1.778601</td>\n",
       "      <td>126.855696</td>\n",
       "      <td>295802277.0</td>\n",
       "      <td>1.380662e+09</td>\n",
       "    </tr>\n",
       "    <tr>\n",
       "      <th>2018-01-28</th>\n",
       "      <td>11765.710000</td>\n",
       "      <td>16832287.5</td>\n",
       "      <td>1.302242</td>\n",
       "      <td>117.430262</td>\n",
       "      <td>296015723.0</td>\n",
       "      <td>1.924759e+09</td>\n",
       "    </tr>\n",
       "    <tr>\n",
       "      <th>2018-01-29</th>\n",
       "      <td>11212.655000</td>\n",
       "      <td>16834137.5</td>\n",
       "      <td>1.243012</td>\n",
       "      <td>96.382352</td>\n",
       "      <td>296247899.0</td>\n",
       "      <td>1.800278e+09</td>\n",
       "    </tr>\n",
       "    <tr>\n",
       "      <th>2018-01-30</th>\n",
       "      <td>10184.061667</td>\n",
       "      <td>16836225.0</td>\n",
       "      <td>1.301143</td>\n",
       "      <td>96.749249</td>\n",
       "      <td>296484508.0</td>\n",
       "      <td>1.759356e+09</td>\n",
       "    </tr>\n",
       "    <tr>\n",
       "      <th>2018-01-31</th>\n",
       "      <td>10125.013333</td>\n",
       "      <td>16837687.5</td>\n",
       "      <td>1.016284</td>\n",
       "      <td>80.529148</td>\n",
       "      <td>296688784.0</td>\n",
       "      <td>1.618659e+09</td>\n",
       "    </tr>\n",
       "    <tr>\n",
       "      <th>2018-02-01</th>\n",
       "      <td>9083.258333</td>\n",
       "      <td>16839687.5</td>\n",
       "      <td>0.799509</td>\n",
       "      <td>78.049647</td>\n",
       "      <td>296946448.0</td>\n",
       "      <td>2.515366e+09</td>\n",
       "    </tr>\n",
       "    <tr>\n",
       "      <th>2018-02-02</th>\n",
       "      <td>8901.901667</td>\n",
       "      <td>16841787.5</td>\n",
       "      <td>0.717894</td>\n",
       "      <td>89.591902</td>\n",
       "      <td>297182366.0</td>\n",
       "      <td>2.944217e+09</td>\n",
       "    </tr>\n",
       "    <tr>\n",
       "      <th>2018-02-03</th>\n",
       "      <td>9076.678333</td>\n",
       "      <td>16843762.5</td>\n",
       "      <td>1.290914</td>\n",
       "      <td>98.824757</td>\n",
       "      <td>297377257.0</td>\n",
       "      <td>1.491970e+09</td>\n",
       "    </tr>\n",
       "    <tr>\n",
       "      <th>2018-02-04</th>\n",
       "      <td>8400.648333</td>\n",
       "      <td>16845987.5</td>\n",
       "      <td>1.208997</td>\n",
       "      <td>112.999677</td>\n",
       "      <td>297550944.0</td>\n",
       "      <td>1.623377e+09</td>\n",
       "    </tr>\n",
       "    <tr>\n",
       "      <th>2018-02-05</th>\n",
       "      <td>6838.816667</td>\n",
       "      <td>16848300.0</td>\n",
       "      <td>0.967008</td>\n",
       "      <td>78.586115</td>\n",
       "      <td>297767307.0</td>\n",
       "      <td>1.758323e+09</td>\n",
       "    </tr>\n",
       "    <tr>\n",
       "      <th>2018-02-06</th>\n",
       "      <td>7685.633333</td>\n",
       "      <td>16850425.0</td>\n",
       "      <td>0.800015</td>\n",
       "      <td>72.073119</td>\n",
       "      <td>298011427.0</td>\n",
       "      <td>2.199270e+09</td>\n",
       "    </tr>\n",
       "    <tr>\n",
       "      <th>2018-02-07</th>\n",
       "      <td>8099.958333</td>\n",
       "      <td>16852187.5</td>\n",
       "      <td>0.905838</td>\n",
       "      <td>71.480272</td>\n",
       "      <td>298225146.0</td>\n",
       "      <td>1.686471e+09</td>\n",
       "    </tr>\n",
       "    <tr>\n",
       "      <th>2018-02-08</th>\n",
       "      <td>8240.536667</td>\n",
       "      <td>16853825.0</td>\n",
       "      <td>0.805963</td>\n",
       "      <td>82.053232</td>\n",
       "      <td>298398435.0</td>\n",
       "      <td>1.764215e+09</td>\n",
       "    </tr>\n",
       "    <tr>\n",
       "      <th>2018-02-09</th>\n",
       "      <td>8535.516667</td>\n",
       "      <td>16855512.5</td>\n",
       "      <td>0.890279</td>\n",
       "      <td>85.223878</td>\n",
       "      <td>298576295.0</td>\n",
       "      <td>1.702604e+09</td>\n",
       "    </tr>\n",
       "    <tr>\n",
       "      <th>2018-02-10</th>\n",
       "      <td>8319.876566</td>\n",
       "      <td>16857300.0</td>\n",
       "      <td>1.614559</td>\n",
       "      <td>85.874632</td>\n",
       "      <td>298758078.0</td>\n",
       "      <td>9.668616e+08</td>\n",
       "    </tr>\n",
       "    <tr>\n",
       "      <th>2018-02-11</th>\n",
       "      <td>8343.455000</td>\n",
       "      <td>16859187.5</td>\n",
       "      <td>2.272316</td>\n",
       "      <td>110.491753</td>\n",
       "      <td>298905286.0</td>\n",
       "      <td>7.158013e+08</td>\n",
       "    </tr>\n",
       "    <tr>\n",
       "      <th>2018-02-12</th>\n",
       "      <td>8811.343333</td>\n",
       "      <td>16861262.5</td>\n",
       "      <td>1.184872</td>\n",
       "      <td>101.114203</td>\n",
       "      <td>299092204.0</td>\n",
       "      <td>1.595114e+09</td>\n",
       "    </tr>\n",
       "    <tr>\n",
       "      <th>2018-02-13</th>\n",
       "      <td>8597.767500</td>\n",
       "      <td>16863312.5</td>\n",
       "      <td>1.441899</td>\n",
       "      <td>99.544224</td>\n",
       "      <td>299275188.0</td>\n",
       "      <td>1.263264e+09</td>\n",
       "    </tr>\n",
       "    <tr>\n",
       "      <th>2018-02-14</th>\n",
       "      <td>9334.633333</td>\n",
       "      <td>16865550.0</td>\n",
       "      <td>1.553881</td>\n",
       "      <td>109.366318</td>\n",
       "      <td>299471605.0</td>\n",
       "      <td>1.382436e+09</td>\n",
       "    </tr>\n",
       "    <tr>\n",
       "      <th>2018-02-15</th>\n",
       "      <td>9977.154000</td>\n",
       "      <td>16867187.5</td>\n",
       "      <td>1.317213</td>\n",
       "      <td>85.662879</td>\n",
       "      <td>299669788.0</td>\n",
       "      <td>1.288852e+09</td>\n",
       "    </tr>\n",
       "    <tr>\n",
       "      <th>2018-02-16</th>\n",
       "      <td>10127.161667</td>\n",
       "      <td>16869150.0</td>\n",
       "      <td>1.893340</td>\n",
       "      <td>109.005818</td>\n",
       "      <td>299857526.0</td>\n",
       "      <td>1.080869e+09</td>\n",
       "    </tr>\n",
       "    <tr>\n",
       "      <th>2018-02-17</th>\n",
       "      <td>10841.991667</td>\n",
       "      <td>16871012.5</td>\n",
       "      <td>2.362525</td>\n",
       "      <td>119.228205</td>\n",
       "      <td>300031315.0</td>\n",
       "      <td>8.770509e+08</td>\n",
       "    </tr>\n",
       "    <tr>\n",
       "      <th>2018-02-18</th>\n",
       "      <td>10503.298333</td>\n",
       "      <td>16873037.5</td>\n",
       "      <td>2.598018</td>\n",
       "      <td>136.289229</td>\n",
       "      <td>300190810.0</td>\n",
       "      <td>8.366936e+08</td>\n",
       "    </tr>\n",
       "    <tr>\n",
       "      <th>2018-02-19</th>\n",
       "      <td>11110.965000</td>\n",
       "      <td>16875062.5</td>\n",
       "      <td>2.006207</td>\n",
       "      <td>123.102480</td>\n",
       "      <td>300378177.0</td>\n",
       "      <td>1.149699e+09</td>\n",
       "    </tr>\n",
       "    <tr>\n",
       "      <th>2018-02-20</th>\n",
       "      <td>11390.391667</td>\n",
       "      <td>16876825.0</td>\n",
       "      <td>1.391617</td>\n",
       "      <td>104.157082</td>\n",
       "      <td>300576632.0</td>\n",
       "      <td>1.485358e+09</td>\n",
       "    </tr>\n",
       "  </tbody>\n",
       "</table>\n",
       "<p>2607 rows × 6 columns</p>\n",
       "</div>"
      ],
      "text/plain": [
       "            btc_market_price  btc_total_bitcoins  \\\n",
       "Date                                               \n",
       "2011-01-02          0.299996           5036250.0   \n",
       "2011-01-03          0.299998           5044450.0   \n",
       "2011-01-04          0.299899           5051550.0   \n",
       "2011-01-05          0.298998           5059050.0   \n",
       "2011-01-06          0.299000           5066400.0   \n",
       "2011-01-07          0.322000           5073600.0   \n",
       "2011-01-08          0.322898           5083200.0   \n",
       "2011-01-09          0.322998           5090800.0   \n",
       "2011-01-10          0.329000           5099150.0   \n",
       "2011-01-11          0.329000           5107250.0   \n",
       "2011-01-12          0.350000           5115600.0   \n",
       "2011-01-13          0.405000           5124850.0   \n",
       "2011-01-14          0.450000           5133550.0   \n",
       "2011-01-15          0.400000           5142150.0   \n",
       "2011-01-16          0.400000           5150800.0   \n",
       "2011-01-17          0.400000           5159450.0   \n",
       "2011-01-18          0.386790           5167250.0   \n",
       "2011-01-19          0.340100           5176100.0   \n",
       "2011-01-20          0.367500           5184500.0   \n",
       "2011-01-21          0.440000           5193400.0   \n",
       "2011-01-22          0.429900           5201600.0   \n",
       "2011-01-23          0.444300           5210100.0   \n",
       "2011-01-24          0.443000           5219100.0   \n",
       "2011-01-25          0.425000           5226900.0   \n",
       "2011-01-26          0.425000           5236650.0   \n",
       "2011-01-27          0.417400           5244650.0   \n",
       "2011-01-28          0.450000           5252800.0   \n",
       "2011-01-29          0.446000           5260300.0   \n",
       "2011-01-30          0.480000           5268500.0   \n",
       "2011-01-31          0.500000           5276000.0   \n",
       "...                      ...                 ...   \n",
       "2018-01-22      10544.593333          16820025.0   \n",
       "2018-01-23      11223.064000          16822237.5   \n",
       "2018-01-24      11282.258333          16824437.5   \n",
       "2018-01-25      11214.440000          16826412.5   \n",
       "2018-01-26      10969.815000          16828350.0   \n",
       "2018-01-27      11524.776667          16830312.5   \n",
       "2018-01-28      11765.710000          16832287.5   \n",
       "2018-01-29      11212.655000          16834137.5   \n",
       "2018-01-30      10184.061667          16836225.0   \n",
       "2018-01-31      10125.013333          16837687.5   \n",
       "2018-02-01       9083.258333          16839687.5   \n",
       "2018-02-02       8901.901667          16841787.5   \n",
       "2018-02-03       9076.678333          16843762.5   \n",
       "2018-02-04       8400.648333          16845987.5   \n",
       "2018-02-05       6838.816667          16848300.0   \n",
       "2018-02-06       7685.633333          16850425.0   \n",
       "2018-02-07       8099.958333          16852187.5   \n",
       "2018-02-08       8240.536667          16853825.0   \n",
       "2018-02-09       8535.516667          16855512.5   \n",
       "2018-02-10       8319.876566          16857300.0   \n",
       "2018-02-11       8343.455000          16859187.5   \n",
       "2018-02-12       8811.343333          16861262.5   \n",
       "2018-02-13       8597.767500          16863312.5   \n",
       "2018-02-14       9334.633333          16865550.0   \n",
       "2018-02-15       9977.154000          16867187.5   \n",
       "2018-02-16      10127.161667          16869150.0   \n",
       "2018-02-17      10841.991667          16871012.5   \n",
       "2018-02-18      10503.298333          16873037.5   \n",
       "2018-02-19      11110.965000          16875062.5   \n",
       "2018-02-20      11390.391667          16876825.0   \n",
       "\n",
       "            btc_cost_per_transaction_percent  btc_cost_per_transaction  \\\n",
       "Date                                                                     \n",
       "2011-01-02                         54.382899                  4.553059   \n",
       "2011-01-03                         50.784056                  2.883920   \n",
       "2011-01-04                         23.791228                  1.714398   \n",
       "2011-01-05                         47.252878                  1.881279   \n",
       "2011-01-06                         43.499052                  2.585471   \n",
       "2011-01-07                         43.711935                  2.634545   \n",
       "2011-01-08                         33.636942                  2.226883   \n",
       "2011-01-09                         49.906015                  2.057657   \n",
       "2011-01-10                         28.590946                  2.022938   \n",
       "2011-01-11                         24.393742                  2.111648   \n",
       "2011-01-12                         15.380039                  2.370235   \n",
       "2011-01-13                         30.693697                  2.947482   \n",
       "2011-01-14                         18.692768                  3.046693   \n",
       "2011-01-15                         17.497831                  3.690987   \n",
       "2011-01-16                         60.784543                  3.369036   \n",
       "2011-01-17                         16.284036                  4.240196   \n",
       "2011-01-18                         17.388300                  3.467772   \n",
       "2011-01-19                         21.160688                  3.112601   \n",
       "2011-01-20                         21.474567                  3.644628   \n",
       "2011-01-21                         40.215899                  3.740210   \n",
       "2011-01-22                         27.235500                  2.463438   \n",
       "2011-01-23                         20.577153                  3.519618   \n",
       "2011-01-24                         27.566833                  2.988756   \n",
       "2011-01-25                         34.556762                  3.435233   \n",
       "2011-01-26                         49.602652                  4.206853   \n",
       "2011-01-27                          1.367418                  3.710222   \n",
       "2011-01-28                          4.826765                  3.540058   \n",
       "2011-01-29                         37.050485                  2.593023   \n",
       "2011-01-30                         55.346441                  1.786655   \n",
       "2011-01-31                         33.911543                  2.066942   \n",
       "...                                      ...                       ...   \n",
       "2018-01-22                          1.206450                103.148288   \n",
       "2018-01-23                          1.399833                103.113799   \n",
       "2018-01-24                          1.333913                111.888553   \n",
       "2018-01-25                          1.159855                104.088588   \n",
       "2018-01-26                          0.834349                106.814230   \n",
       "2018-01-27                          1.778601                126.855696   \n",
       "2018-01-28                          1.302242                117.430262   \n",
       "2018-01-29                          1.243012                 96.382352   \n",
       "2018-01-30                          1.301143                 96.749249   \n",
       "2018-01-31                          1.016284                 80.529148   \n",
       "2018-02-01                          0.799509                 78.049647   \n",
       "2018-02-02                          0.717894                 89.591902   \n",
       "2018-02-03                          1.290914                 98.824757   \n",
       "2018-02-04                          1.208997                112.999677   \n",
       "2018-02-05                          0.967008                 78.586115   \n",
       "2018-02-06                          0.800015                 72.073119   \n",
       "2018-02-07                          0.905838                 71.480272   \n",
       "2018-02-08                          0.805963                 82.053232   \n",
       "2018-02-09                          0.890279                 85.223878   \n",
       "2018-02-10                          1.614559                 85.874632   \n",
       "2018-02-11                          2.272316                110.491753   \n",
       "2018-02-12                          1.184872                101.114203   \n",
       "2018-02-13                          1.441899                 99.544224   \n",
       "2018-02-14                          1.553881                109.366318   \n",
       "2018-02-15                          1.317213                 85.662879   \n",
       "2018-02-16                          1.893340                109.005818   \n",
       "2018-02-17                          2.362525                119.228205   \n",
       "2018-02-18                          2.598018                136.289229   \n",
       "2018-02-19                          2.006207                123.102480   \n",
       "2018-02-20                          1.391617                104.157082   \n",
       "\n",
       "            btc_n_transactions_total  btc_estimated_transaction_volume_usd  \n",
       "Date                                                                        \n",
       "2011-01-02                  219086.0                          4.965000e+03  \n",
       "2011-01-03                  219939.0                          4.844000e+03  \n",
       "2011-01-04                  221181.0                          8.950000e+03  \n",
       "2011-01-05                  222373.0                          4.746000e+03  \n",
       "2011-01-06                  223223.0                          5.052000e+03  \n",
       "2011-01-07                  224103.0                          5.304000e+03  \n",
       "2011-01-08                  225495.0                          9.216000e+03  \n",
       "2011-01-09                  226688.0                          4.919000e+03  \n",
       "2011-01-10                  228046.0                          9.608000e+03  \n",
       "2011-01-11                  229308.0                          1.092500e+04  \n",
       "2011-01-12                  230541.0                          1.900200e+04  \n",
       "2011-01-13                  231812.0                          1.220500e+04  \n",
       "2011-01-14                  233097.0                          2.094400e+04  \n",
       "2011-01-15                  234029.0                          1.966000e+04  \n",
       "2011-01-16                  235056.0                          5.692000e+03  \n",
       "2011-01-17                  235872.0                          2.124800e+04  \n",
       "2011-01-18                  236742.0                          1.735100e+04  \n",
       "2011-01-19                  237709.0                          1.422400e+04  \n",
       "2011-01-20                  238556.0                          1.437500e+04  \n",
       "2011-01-21                  239603.0                          9.737000e+03  \n",
       "2011-01-22                  241034.0                          1.294300e+04  \n",
       "2011-01-23                  242107.0                          1.835300e+04  \n",
       "2011-01-24                  243441.0                          1.446300e+04  \n",
       "2011-01-25                  244406.0                          9.593000e+03  \n",
       "2011-01-26                  245391.0                          8.354000e+03  \n",
       "2011-01-27                  246291.0                          2.441970e+05  \n",
       "2011-01-28                  247327.0                          7.598300e+04  \n",
       "2011-01-29                  248617.0                          9.028000e+03  \n",
       "2011-01-30                  250820.0                          7.112000e+03  \n",
       "2011-01-31                  252635.0                          1.106300e+04  \n",
       "...                              ...                                   ...  \n",
       "2018-01-22               294629301.0                          2.099491e+09  \n",
       "2018-01-23               294901237.0                          2.003121e+09  \n",
       "2018-01-24               295151660.0                          2.100547e+09  \n",
       "2018-01-25               295388240.0                          2.123135e+09  \n",
       "2018-01-26               295608699.0                          2.822338e+09  \n",
       "2018-01-27               295802277.0                          1.380662e+09  \n",
       "2018-01-28               296015723.0                          1.924759e+09  \n",
       "2018-01-29               296247899.0                          1.800278e+09  \n",
       "2018-01-30               296484508.0                          1.759356e+09  \n",
       "2018-01-31               296688784.0                          1.618659e+09  \n",
       "2018-02-01               296946448.0                          2.515366e+09  \n",
       "2018-02-02               297182366.0                          2.944217e+09  \n",
       "2018-02-03               297377257.0                          1.491970e+09  \n",
       "2018-02-04               297550944.0                          1.623377e+09  \n",
       "2018-02-05               297767307.0                          1.758323e+09  \n",
       "2018-02-06               298011427.0                          2.199270e+09  \n",
       "2018-02-07               298225146.0                          1.686471e+09  \n",
       "2018-02-08               298398435.0                          1.764215e+09  \n",
       "2018-02-09               298576295.0                          1.702604e+09  \n",
       "2018-02-10               298758078.0                          9.668616e+08  \n",
       "2018-02-11               298905286.0                          7.158013e+08  \n",
       "2018-02-12               299092204.0                          1.595114e+09  \n",
       "2018-02-13               299275188.0                          1.263264e+09  \n",
       "2018-02-14               299471605.0                          1.382436e+09  \n",
       "2018-02-15               299669788.0                          1.288852e+09  \n",
       "2018-02-16               299857526.0                          1.080869e+09  \n",
       "2018-02-17               300031315.0                          8.770509e+08  \n",
       "2018-02-18               300190810.0                          8.366936e+08  \n",
       "2018-02-19               300378177.0                          1.149699e+09  \n",
       "2018-02-20               300576632.0                          1.485358e+09  \n",
       "\n",
       "[2607 rows x 6 columns]"
      ]
     },
     "execution_count": 77,
     "metadata": {},
     "output_type": "execute_result"
    }
   ],
   "source": [
    "bitcoin_db = new_bitcoin_df.loc['2011-01-02':'2018-02-20'].copy()\n",
    "bitcoin_db"
   ]
  },
  {
   "cell_type": "code",
   "execution_count": 108,
   "metadata": {},
   "outputs": [],
   "source": [
    "# Now review the TCP index\n",
    "tcp_df.set_index('Fecha',inplace = True)"
   ]
  },
  {
   "cell_type": "code",
   "execution_count": 109,
   "metadata": {},
   "outputs": [
    {
     "data": {
      "text/html": [
       "<div>\n",
       "<style scoped>\n",
       "    .dataframe tbody tr th:only-of-type {\n",
       "        vertical-align: middle;\n",
       "    }\n",
       "\n",
       "    .dataframe tbody tr th {\n",
       "        vertical-align: top;\n",
       "    }\n",
       "\n",
       "    .dataframe thead th {\n",
       "        text-align: right;\n",
       "    }\n",
       "</style>\n",
       "<table border=\"1\" class=\"dataframe\">\n",
       "  <thead>\n",
       "    <tr style=\"text-align: right;\">\n",
       "      <th></th>\n",
       "      <th>Dolar</th>\n",
       "    </tr>\n",
       "    <tr>\n",
       "      <th>Fecha</th>\n",
       "      <th></th>\n",
       "    </tr>\n",
       "  </thead>\n",
       "  <tbody>\n",
       "    <tr>\n",
       "      <th>2011-03-01</th>\n",
       "      <td>12.2574</td>\n",
       "    </tr>\n",
       "    <tr>\n",
       "      <th>2011-04-01</th>\n",
       "      <td>12.2619</td>\n",
       "    </tr>\n",
       "    <tr>\n",
       "      <th>2011-05-01</th>\n",
       "      <td>12.2064</td>\n",
       "    </tr>\n",
       "    <tr>\n",
       "      <th>2011-06-01</th>\n",
       "      <td>12.2256</td>\n",
       "    </tr>\n",
       "    <tr>\n",
       "      <th>2011-07-01</th>\n",
       "      <td>12.2369</td>\n",
       "    </tr>\n",
       "  </tbody>\n",
       "</table>\n",
       "</div>"
      ],
      "text/plain": [
       "              Dolar\n",
       "Fecha              \n",
       "2011-03-01  12.2574\n",
       "2011-04-01  12.2619\n",
       "2011-05-01  12.2064\n",
       "2011-06-01  12.2256\n",
       "2011-07-01  12.2369"
      ]
     },
     "execution_count": 109,
     "metadata": {},
     "output_type": "execute_result"
    }
   ],
   "source": [
    "tcp_df.head(5)"
   ]
  },
  {
   "cell_type": "code",
   "execution_count": 115,
   "metadata": {},
   "outputs": [],
   "source": [
    "tcp_db = tcp_df.loc['2011-01-02':'2018-02-20'].copy()"
   ]
  },
  {
   "cell_type": "code",
   "execution_count": 116,
   "metadata": {},
   "outputs": [
    {
     "data": {
      "text/html": [
       "<div>\n",
       "<style scoped>\n",
       "    .dataframe tbody tr th:only-of-type {\n",
       "        vertical-align: middle;\n",
       "    }\n",
       "\n",
       "    .dataframe tbody tr th {\n",
       "        vertical-align: top;\n",
       "    }\n",
       "\n",
       "    .dataframe thead th {\n",
       "        text-align: right;\n",
       "    }\n",
       "</style>\n",
       "<table border=\"1\" class=\"dataframe\">\n",
       "  <thead>\n",
       "    <tr style=\"text-align: right;\">\n",
       "      <th></th>\n",
       "      <th>Dolar</th>\n",
       "    </tr>\n",
       "    <tr>\n",
       "      <th>Fecha</th>\n",
       "      <th></th>\n",
       "    </tr>\n",
       "  </thead>\n",
       "  <tbody>\n",
       "    <tr>\n",
       "      <th>2011-03-01</th>\n",
       "      <td>12.2574</td>\n",
       "    </tr>\n",
       "  </tbody>\n",
       "</table>\n",
       "</div>"
      ],
      "text/plain": [
       "              Dolar\n",
       "Fecha              \n",
       "2011-03-01  12.2574"
      ]
     },
     "execution_count": 116,
     "metadata": {},
     "output_type": "execute_result"
    }
   ],
   "source": [
    "tcp_db.head(1)"
   ]
  },
  {
   "cell_type": "code",
   "execution_count": 117,
   "metadata": {},
   "outputs": [
    {
     "data": {
      "text/html": [
       "<div>\n",
       "<style scoped>\n",
       "    .dataframe tbody tr th:only-of-type {\n",
       "        vertical-align: middle;\n",
       "    }\n",
       "\n",
       "    .dataframe tbody tr th {\n",
       "        vertical-align: top;\n",
       "    }\n",
       "\n",
       "    .dataframe thead th {\n",
       "        text-align: right;\n",
       "    }\n",
       "</style>\n",
       "<table border=\"1\" class=\"dataframe\">\n",
       "  <thead>\n",
       "    <tr style=\"text-align: right;\">\n",
       "      <th></th>\n",
       "      <th>Dolar</th>\n",
       "    </tr>\n",
       "    <tr>\n",
       "      <th>Fecha</th>\n",
       "      <th></th>\n",
       "    </tr>\n",
       "  </thead>\n",
       "  <tbody>\n",
       "    <tr>\n",
       "      <th>2018-01-11</th>\n",
       "      <td>20.1329</td>\n",
       "    </tr>\n",
       "  </tbody>\n",
       "</table>\n",
       "</div>"
      ],
      "text/plain": [
       "              Dolar\n",
       "Fecha              \n",
       "2018-01-11  20.1329"
      ]
     },
     "execution_count": 117,
     "metadata": {},
     "output_type": "execute_result"
    }
   ],
   "source": [
    "tcp_db.tail(1)"
   ]
  },
  {
   "cell_type": "code",
   "execution_count": 118,
   "metadata": {},
   "outputs": [
    {
     "data": {
      "text/plain": [
       "Dolar    1793\n",
       "dtype: int64"
      ]
     },
     "execution_count": 118,
     "metadata": {},
     "output_type": "execute_result"
    }
   ],
   "source": [
    "tcp_db.count()"
   ]
  },
  {
   "cell_type": "markdown",
   "metadata": {},
   "source": [
    "#### To create a similar period of measurement, we will need to resample both data sets. "
   ]
  },
  {
   "cell_type": "code",
   "execution_count": 91,
   "metadata": {},
   "outputs": [
    {
     "data": {
      "text/html": [
       "<div>\n",
       "<style scoped>\n",
       "    .dataframe tbody tr th:only-of-type {\n",
       "        vertical-align: middle;\n",
       "    }\n",
       "\n",
       "    .dataframe tbody tr th {\n",
       "        vertical-align: top;\n",
       "    }\n",
       "\n",
       "    .dataframe thead th {\n",
       "        text-align: right;\n",
       "    }\n",
       "</style>\n",
       "<table border=\"1\" class=\"dataframe\">\n",
       "  <thead>\n",
       "    <tr style=\"text-align: right;\">\n",
       "      <th></th>\n",
       "      <th>btc_market_price</th>\n",
       "      <th>btc_total_bitcoins</th>\n",
       "      <th>btc_cost_per_transaction_percent</th>\n",
       "      <th>btc_cost_per_transaction</th>\n",
       "      <th>btc_n_transactions_total</th>\n",
       "      <th>btc_estimated_transaction_volume_usd</th>\n",
       "    </tr>\n",
       "    <tr>\n",
       "      <th>Date</th>\n",
       "      <th></th>\n",
       "      <th></th>\n",
       "      <th></th>\n",
       "      <th></th>\n",
       "      <th></th>\n",
       "      <th></th>\n",
       "    </tr>\n",
       "  </thead>\n",
       "  <tbody>\n",
       "    <tr>\n",
       "      <th>2011-01-02</th>\n",
       "      <td>0.299996</td>\n",
       "      <td>5.036250e+06</td>\n",
       "      <td>54.382899</td>\n",
       "      <td>4.553059</td>\n",
       "      <td>219086.000000</td>\n",
       "      <td>4965.000000</td>\n",
       "    </tr>\n",
       "    <tr>\n",
       "      <th>2011-01-09</th>\n",
       "      <td>0.309399</td>\n",
       "      <td>5.067007e+06</td>\n",
       "      <td>41.797444</td>\n",
       "      <td>2.283450</td>\n",
       "      <td>223286.000000</td>\n",
       "      <td>6147.285714</td>\n",
       "    </tr>\n",
       "    <tr>\n",
       "      <th>2011-01-16</th>\n",
       "      <td>0.380429</td>\n",
       "      <td>5.124764e+06</td>\n",
       "      <td>28.004795</td>\n",
       "      <td>2.794146</td>\n",
       "      <td>231698.428571</td>\n",
       "      <td>14005.142857</td>\n",
       "    </tr>\n",
       "    <tr>\n",
       "      <th>2011-01-23</th>\n",
       "      <td>0.401227</td>\n",
       "      <td>5.184629e+06</td>\n",
       "      <td>23.476592</td>\n",
       "      <td>3.455495</td>\n",
       "      <td>238803.285714</td>\n",
       "      <td>15461.571429</td>\n",
       "    </tr>\n",
       "    <tr>\n",
       "      <th>2011-01-30</th>\n",
       "      <td>0.440914</td>\n",
       "      <td>5.244129e+06</td>\n",
       "      <td>30.045336</td>\n",
       "      <td>3.180114</td>\n",
       "      <td>246613.285714</td>\n",
       "      <td>52675.714286</td>\n",
       "    </tr>\n",
       "  </tbody>\n",
       "</table>\n",
       "</div>"
      ],
      "text/plain": [
       "            btc_market_price  btc_total_bitcoins  \\\n",
       "Date                                               \n",
       "2011-01-02          0.299996        5.036250e+06   \n",
       "2011-01-09          0.309399        5.067007e+06   \n",
       "2011-01-16          0.380429        5.124764e+06   \n",
       "2011-01-23          0.401227        5.184629e+06   \n",
       "2011-01-30          0.440914        5.244129e+06   \n",
       "\n",
       "            btc_cost_per_transaction_percent  btc_cost_per_transaction  \\\n",
       "Date                                                                     \n",
       "2011-01-02                         54.382899                  4.553059   \n",
       "2011-01-09                         41.797444                  2.283450   \n",
       "2011-01-16                         28.004795                  2.794146   \n",
       "2011-01-23                         23.476592                  3.455495   \n",
       "2011-01-30                         30.045336                  3.180114   \n",
       "\n",
       "            btc_n_transactions_total  btc_estimated_transaction_volume_usd  \n",
       "Date                                                                        \n",
       "2011-01-02             219086.000000                           4965.000000  \n",
       "2011-01-09             223286.000000                           6147.285714  \n",
       "2011-01-16             231698.428571                          14005.142857  \n",
       "2011-01-23             238803.285714                          15461.571429  \n",
       "2011-01-30             246613.285714                          52675.714286  "
      ]
     },
     "execution_count": 91,
     "metadata": {},
     "output_type": "execute_result"
    }
   ],
   "source": [
    "bitcoin_db = bitcoin_db.resample(rule='W').mean()\n",
    "bitcoin_db.head(5)"
   ]
  },
  {
   "cell_type": "code",
   "execution_count": 95,
   "metadata": {},
   "outputs": [
    {
     "data": {
      "text/plain": [
       "btc_market_price                        374\n",
       "btc_total_bitcoins                      374\n",
       "btc_cost_per_transaction_percent        374\n",
       "btc_cost_per_transaction                374\n",
       "btc_n_transactions_total                374\n",
       "btc_estimated_transaction_volume_usd    374\n",
       "dtype: int64"
      ]
     },
     "execution_count": 95,
     "metadata": {},
     "output_type": "execute_result"
    }
   ],
   "source": [
    "bitcoin_db.count()"
   ]
  },
  {
   "cell_type": "code",
   "execution_count": 119,
   "metadata": {},
   "outputs": [],
   "source": [
    "tcp_db = tcp_db.resample(rule = 'W').mean()"
   ]
  },
  {
   "cell_type": "code",
   "execution_count": 98,
   "metadata": {},
   "outputs": [
    {
     "data": {
      "text/html": [
       "<div>\n",
       "<style scoped>\n",
       "    .dataframe tbody tr th:only-of-type {\n",
       "        vertical-align: middle;\n",
       "    }\n",
       "\n",
       "    .dataframe tbody tr th {\n",
       "        vertical-align: top;\n",
       "    }\n",
       "\n",
       "    .dataframe thead th {\n",
       "        text-align: right;\n",
       "    }\n",
       "</style>\n",
       "<table border=\"1\" class=\"dataframe\">\n",
       "  <thead>\n",
       "    <tr style=\"text-align: right;\">\n",
       "      <th></th>\n",
       "      <th>Dolar</th>\n",
       "    </tr>\n",
       "    <tr>\n",
       "      <th>Fecha</th>\n",
       "      <th></th>\n",
       "    </tr>\n",
       "  </thead>\n",
       "  <tbody>\n",
       "    <tr>\n",
       "      <th>2011-01-02</th>\n",
       "      <td>12.017000</td>\n",
       "    </tr>\n",
       "    <tr>\n",
       "      <th>2011-01-09</th>\n",
       "      <td>11.868600</td>\n",
       "    </tr>\n",
       "    <tr>\n",
       "      <th>2011-01-16</th>\n",
       "      <td>12.851875</td>\n",
       "    </tr>\n",
       "    <tr>\n",
       "      <th>2011-01-23</th>\n",
       "      <td>12.053780</td>\n",
       "    </tr>\n",
       "    <tr>\n",
       "      <th>2011-01-30</th>\n",
       "      <td>12.064660</td>\n",
       "    </tr>\n",
       "  </tbody>\n",
       "</table>\n",
       "</div>"
      ],
      "text/plain": [
       "                Dolar\n",
       "Fecha                \n",
       "2011-01-02  12.017000\n",
       "2011-01-09  11.868600\n",
       "2011-01-16  12.851875\n",
       "2011-01-23  12.053780\n",
       "2011-01-30  12.064660"
      ]
     },
     "execution_count": 98,
     "metadata": {},
     "output_type": "execute_result"
    }
   ],
   "source": [
    "tcp_db.head(5)"
   ]
  },
  {
   "cell_type": "code",
   "execution_count": 99,
   "metadata": {},
   "outputs": [
    {
     "data": {
      "text/plain": [
       "Dolar    374\n",
       "dtype: int64"
      ]
     },
     "execution_count": 99,
     "metadata": {},
     "output_type": "execute_result"
    }
   ],
   "source": [
    "tcp_db.count()"
   ]
  },
  {
   "cell_type": "code",
   "execution_count": 153,
   "metadata": {},
   "outputs": [],
   "source": [
    "tcp_db.rename_axis('date', inplace = True)"
   ]
  },
  {
   "cell_type": "code",
   "execution_count": 155,
   "metadata": {},
   "outputs": [],
   "source": [
    "tcp_db.rename(columns={'Dolar': 'dolar'}, inplace = True)"
   ]
  },
  {
   "cell_type": "code",
   "execution_count": 156,
   "metadata": {},
   "outputs": [
    {
     "data": {
      "text/html": [
       "<div>\n",
       "<style scoped>\n",
       "    .dataframe tbody tr th:only-of-type {\n",
       "        vertical-align: middle;\n",
       "    }\n",
       "\n",
       "    .dataframe tbody tr th {\n",
       "        vertical-align: top;\n",
       "    }\n",
       "\n",
       "    .dataframe thead th {\n",
       "        text-align: right;\n",
       "    }\n",
       "</style>\n",
       "<table border=\"1\" class=\"dataframe\">\n",
       "  <thead>\n",
       "    <tr style=\"text-align: right;\">\n",
       "      <th></th>\n",
       "      <th>dolar</th>\n",
       "      <th>id</th>\n",
       "    </tr>\n",
       "    <tr>\n",
       "      <th>date</th>\n",
       "      <th></th>\n",
       "      <th></th>\n",
       "    </tr>\n",
       "  </thead>\n",
       "  <tbody>\n",
       "    <tr>\n",
       "      <th>2011-01-02</th>\n",
       "      <td>12.017000</td>\n",
       "      <td>1</td>\n",
       "    </tr>\n",
       "    <tr>\n",
       "      <th>2011-01-09</th>\n",
       "      <td>11.868600</td>\n",
       "      <td>2</td>\n",
       "    </tr>\n",
       "    <tr>\n",
       "      <th>2011-01-16</th>\n",
       "      <td>12.851875</td>\n",
       "      <td>3</td>\n",
       "    </tr>\n",
       "    <tr>\n",
       "      <th>2011-01-23</th>\n",
       "      <td>12.053780</td>\n",
       "      <td>4</td>\n",
       "    </tr>\n",
       "    <tr>\n",
       "      <th>2011-01-30</th>\n",
       "      <td>12.064660</td>\n",
       "      <td>5</td>\n",
       "    </tr>\n",
       "  </tbody>\n",
       "</table>\n",
       "</div>"
      ],
      "text/plain": [
       "                dolar  id\n",
       "date                     \n",
       "2011-01-02  12.017000   1\n",
       "2011-01-09  11.868600   2\n",
       "2011-01-16  12.851875   3\n",
       "2011-01-23  12.053780   4\n",
       "2011-01-30  12.064660   5"
      ]
     },
     "execution_count": 156,
     "metadata": {},
     "output_type": "execute_result"
    }
   ],
   "source": [
    "tcp_db.head(5)"
   ]
  },
  {
   "cell_type": "code",
   "execution_count": 159,
   "metadata": {},
   "outputs": [
    {
     "data": {
      "text/html": [
       "<div>\n",
       "<style scoped>\n",
       "    .dataframe tbody tr th:only-of-type {\n",
       "        vertical-align: middle;\n",
       "    }\n",
       "\n",
       "    .dataframe tbody tr th {\n",
       "        vertical-align: top;\n",
       "    }\n",
       "\n",
       "    .dataframe thead th {\n",
       "        text-align: right;\n",
       "    }\n",
       "</style>\n",
       "<table border=\"1\" class=\"dataframe\">\n",
       "  <thead>\n",
       "    <tr style=\"text-align: right;\">\n",
       "      <th></th>\n",
       "      <th>btc_market_price</th>\n",
       "      <th>btc_total_bitcoins</th>\n",
       "      <th>btc_cost_per_transaction_percent</th>\n",
       "      <th>btc_cost_per_transaction</th>\n",
       "      <th>btc_n_transactions_total</th>\n",
       "      <th>btc_estimated_transaction_volume_usd</th>\n",
       "      <th>id</th>\n",
       "    </tr>\n",
       "    <tr>\n",
       "      <th>date</th>\n",
       "      <th></th>\n",
       "      <th></th>\n",
       "      <th></th>\n",
       "      <th></th>\n",
       "      <th></th>\n",
       "      <th></th>\n",
       "      <th></th>\n",
       "    </tr>\n",
       "  </thead>\n",
       "  <tbody>\n",
       "    <tr>\n",
       "      <th>2011-01-02</th>\n",
       "      <td>0.299996</td>\n",
       "      <td>5036250.0</td>\n",
       "      <td>54.382899</td>\n",
       "      <td>4.553059</td>\n",
       "      <td>219086.0</td>\n",
       "      <td>4965.0</td>\n",
       "      <td>1</td>\n",
       "    </tr>\n",
       "  </tbody>\n",
       "</table>\n",
       "</div>"
      ],
      "text/plain": [
       "            btc_market_price  btc_total_bitcoins  \\\n",
       "date                                               \n",
       "2011-01-02          0.299996           5036250.0   \n",
       "\n",
       "            btc_cost_per_transaction_percent  btc_cost_per_transaction  \\\n",
       "date                                                                     \n",
       "2011-01-02                         54.382899                  4.553059   \n",
       "\n",
       "            btc_n_transactions_total  btc_estimated_transaction_volume_usd  id  \n",
       "date                                                                            \n",
       "2011-01-02                  219086.0                                4965.0   1  "
      ]
     },
     "execution_count": 159,
     "metadata": {},
     "output_type": "execute_result"
    }
   ],
   "source": [
    "bitcoin_db.head(1)"
   ]
  },
  {
   "cell_type": "code",
   "execution_count": 158,
   "metadata": {},
   "outputs": [],
   "source": [
    "bitcoin_db.rename_axis('date', inplace=True)"
   ]
  },
  {
   "cell_type": "markdown",
   "metadata": {},
   "source": [
    "### With the same period, we can compare the trend of both data sets"
   ]
  },
  {
   "cell_type": "code",
   "execution_count": 135,
   "metadata": {},
   "outputs": [],
   "source": [
    "tcp_db['id'] = np.arange(1,len(tcp_db)+1)"
   ]
  },
  {
   "cell_type": "code",
   "execution_count": 137,
   "metadata": {},
   "outputs": [
    {
     "data": {
      "text/html": [
       "<div>\n",
       "<style scoped>\n",
       "    .dataframe tbody tr th:only-of-type {\n",
       "        vertical-align: middle;\n",
       "    }\n",
       "\n",
       "    .dataframe tbody tr th {\n",
       "        vertical-align: top;\n",
       "    }\n",
       "\n",
       "    .dataframe thead th {\n",
       "        text-align: right;\n",
       "    }\n",
       "</style>\n",
       "<table border=\"1\" class=\"dataframe\">\n",
       "  <thead>\n",
       "    <tr style=\"text-align: right;\">\n",
       "      <th></th>\n",
       "      <th>Dolar</th>\n",
       "      <th>id</th>\n",
       "    </tr>\n",
       "    <tr>\n",
       "      <th>Date</th>\n",
       "      <th></th>\n",
       "      <th></th>\n",
       "    </tr>\n",
       "  </thead>\n",
       "  <tbody>\n",
       "    <tr>\n",
       "      <th>2011-01-02</th>\n",
       "      <td>12.017000</td>\n",
       "      <td>1</td>\n",
       "    </tr>\n",
       "    <tr>\n",
       "      <th>2011-01-09</th>\n",
       "      <td>11.868600</td>\n",
       "      <td>2</td>\n",
       "    </tr>\n",
       "    <tr>\n",
       "      <th>2011-01-16</th>\n",
       "      <td>12.851875</td>\n",
       "      <td>3</td>\n",
       "    </tr>\n",
       "  </tbody>\n",
       "</table>\n",
       "</div>"
      ],
      "text/plain": [
       "                Dolar  id\n",
       "Date                     \n",
       "2011-01-02  12.017000   1\n",
       "2011-01-09  11.868600   2\n",
       "2011-01-16  12.851875   3"
      ]
     },
     "execution_count": 137,
     "metadata": {},
     "output_type": "execute_result"
    }
   ],
   "source": [
    "tcp_db.head(3)"
   ]
  },
  {
   "cell_type": "code",
   "execution_count": 140,
   "metadata": {},
   "outputs": [],
   "source": [
    "bitcoin_db['id'] = np.arange(1,len(bitcoin_db)+1)"
   ]
  },
  {
   "cell_type": "code",
   "execution_count": 165,
   "metadata": {},
   "outputs": [
    {
     "data": {
      "text/plain": [
       "date\n",
       "2011-01-02    1\n",
       "2011-01-09    2\n",
       "2011-01-16    3\n",
       "Freq: W-SUN, Name: id, dtype: int64"
      ]
     },
     "execution_count": 165,
     "metadata": {},
     "output_type": "execute_result"
    }
   ],
   "source": [
    "bitcoin_db['id'].head(3)"
   ]
  },
  {
   "cell_type": "code",
   "execution_count": 177,
   "metadata": {},
   "outputs": [
    {
     "data": {
      "text/html": [
       "<div>\n",
       "<style scoped>\n",
       "    .dataframe tbody tr th:only-of-type {\n",
       "        vertical-align: middle;\n",
       "    }\n",
       "\n",
       "    .dataframe tbody tr th {\n",
       "        vertical-align: top;\n",
       "    }\n",
       "\n",
       "    .dataframe thead th {\n",
       "        text-align: right;\n",
       "    }\n",
       "</style>\n",
       "<table border=\"1\" class=\"dataframe\">\n",
       "  <thead>\n",
       "    <tr style=\"text-align: right;\">\n",
       "      <th></th>\n",
       "      <th>btc_market_price</th>\n",
       "      <th>btc_total_bitcoins</th>\n",
       "      <th>btc_cost_per_transaction_percent</th>\n",
       "      <th>btc_cost_per_transaction</th>\n",
       "      <th>btc_n_transactions_total</th>\n",
       "      <th>btc_estimated_transaction_volume_usd</th>\n",
       "      <th>id</th>\n",
       "      <th>date</th>\n",
       "    </tr>\n",
       "    <tr>\n",
       "      <th>date</th>\n",
       "      <th></th>\n",
       "      <th></th>\n",
       "      <th></th>\n",
       "      <th></th>\n",
       "      <th></th>\n",
       "      <th></th>\n",
       "      <th></th>\n",
       "      <th></th>\n",
       "    </tr>\n",
       "  </thead>\n",
       "  <tbody>\n",
       "    <tr>\n",
       "      <th>2011-01-02</th>\n",
       "      <td>0.299996</td>\n",
       "      <td>5.036250e+06</td>\n",
       "      <td>54.382899</td>\n",
       "      <td>4.553059</td>\n",
       "      <td>219086.0</td>\n",
       "      <td>4965.000000</td>\n",
       "      <td>1</td>\n",
       "      <td>2011-01-02</td>\n",
       "    </tr>\n",
       "    <tr>\n",
       "      <th>2011-01-09</th>\n",
       "      <td>0.309399</td>\n",
       "      <td>5.067007e+06</td>\n",
       "      <td>41.797444</td>\n",
       "      <td>2.283450</td>\n",
       "      <td>223286.0</td>\n",
       "      <td>6147.285714</td>\n",
       "      <td>2</td>\n",
       "      <td>2011-01-09</td>\n",
       "    </tr>\n",
       "  </tbody>\n",
       "</table>\n",
       "</div>"
      ],
      "text/plain": [
       "            btc_market_price  btc_total_bitcoins  \\\n",
       "date                                               \n",
       "2011-01-02          0.299996        5.036250e+06   \n",
       "2011-01-09          0.309399        5.067007e+06   \n",
       "\n",
       "            btc_cost_per_transaction_percent  btc_cost_per_transaction  \\\n",
       "date                                                                     \n",
       "2011-01-02                         54.382899                  4.553059   \n",
       "2011-01-09                         41.797444                  2.283450   \n",
       "\n",
       "            btc_n_transactions_total  btc_estimated_transaction_volume_usd  \\\n",
       "date                                                                         \n",
       "2011-01-02                  219086.0                           4965.000000   \n",
       "2011-01-09                  223286.0                           6147.285714   \n",
       "\n",
       "            id       date  \n",
       "date                       \n",
       "2011-01-02   1 2011-01-02  \n",
       "2011-01-09   2 2011-01-09  "
      ]
     },
     "execution_count": 177,
     "metadata": {},
     "output_type": "execute_result"
    }
   ],
   "source": [
    "bitcoin_db.head(2)"
   ]
  },
  {
   "cell_type": "code",
   "execution_count": 176,
   "metadata": {},
   "outputs": [],
   "source": [
    "bitcoin_db['date'] = bitcoin_db.index"
   ]
  },
  {
   "cell_type": "code",
   "execution_count": 183,
   "metadata": {},
   "outputs": [],
   "source": [
    "tcp_db['date'] = tcp_db.index"
   ]
  },
  {
   "cell_type": "markdown",
   "metadata": {},
   "source": [
    "# Create database connection"
   ]
  },
  {
   "cell_type": "code",
   "execution_count": 178,
   "metadata": {},
   "outputs": [],
   "source": [
    "rds_conn = \"postgres:adriana@localhost:5432/bitcoin_db\"\n",
    "engine = create_engine(f'postgresql://{rds_conn}')"
   ]
  },
  {
   "cell_type": "code",
   "execution_count": 180,
   "metadata": {},
   "outputs": [
    {
     "data": {
      "text/plain": [
       "['tcp', 'bitcoin']"
      ]
     },
     "execution_count": 180,
     "metadata": {},
     "output_type": "execute_result"
    }
   ],
   "source": [
    "engine.table_names()"
   ]
  },
  {
   "cell_type": "code",
   "execution_count": 181,
   "metadata": {},
   "outputs": [],
   "source": [
    "# new_customer_data_df.to_sql(name='customer_name', con=engine, if_exists='append', index=False)\n",
    "bitcoin_db.to_sql(name='bitcoin', con=engine, if_exists='append', index=False)"
   ]
  },
  {
   "cell_type": "code",
   "execution_count": 182,
   "metadata": {},
   "outputs": [
    {
     "data": {
      "text/html": [
       "<div>\n",
       "<style scoped>\n",
       "    .dataframe tbody tr th:only-of-type {\n",
       "        vertical-align: middle;\n",
       "    }\n",
       "\n",
       "    .dataframe tbody tr th {\n",
       "        vertical-align: top;\n",
       "    }\n",
       "\n",
       "    .dataframe thead th {\n",
       "        text-align: right;\n",
       "    }\n",
       "</style>\n",
       "<table border=\"1\" class=\"dataframe\">\n",
       "  <thead>\n",
       "    <tr style=\"text-align: right;\">\n",
       "      <th></th>\n",
       "      <th>date</th>\n",
       "      <th>btc_market_price</th>\n",
       "      <th>btc_total_bitcoins</th>\n",
       "      <th>btc_cost_per_transaction_percent</th>\n",
       "      <th>btc_cost_per_transaction</th>\n",
       "      <th>btc_n_transactions_total</th>\n",
       "      <th>btc_estimated_transaction_volume_usd</th>\n",
       "      <th>id</th>\n",
       "    </tr>\n",
       "  </thead>\n",
       "  <tbody>\n",
       "    <tr>\n",
       "      <th>0</th>\n",
       "      <td>2011-01-02</td>\n",
       "      <td>0.299996</td>\n",
       "      <td>5.036250e+06</td>\n",
       "      <td>54.382899</td>\n",
       "      <td>4.553059</td>\n",
       "      <td>219086.000000</td>\n",
       "      <td>4965.000000</td>\n",
       "      <td>1</td>\n",
       "    </tr>\n",
       "    <tr>\n",
       "      <th>1</th>\n",
       "      <td>2011-01-09</td>\n",
       "      <td>0.309399</td>\n",
       "      <td>5.067007e+06</td>\n",
       "      <td>41.797444</td>\n",
       "      <td>2.283450</td>\n",
       "      <td>223286.000000</td>\n",
       "      <td>6147.285714</td>\n",
       "      <td>2</td>\n",
       "    </tr>\n",
       "    <tr>\n",
       "      <th>2</th>\n",
       "      <td>2011-01-16</td>\n",
       "      <td>0.380429</td>\n",
       "      <td>5.124764e+06</td>\n",
       "      <td>28.004795</td>\n",
       "      <td>2.794146</td>\n",
       "      <td>231698.428571</td>\n",
       "      <td>14005.142857</td>\n",
       "      <td>3</td>\n",
       "    </tr>\n",
       "  </tbody>\n",
       "</table>\n",
       "</div>"
      ],
      "text/plain": [
       "         date  btc_market_price  btc_total_bitcoins  \\\n",
       "0  2011-01-02          0.299996        5.036250e+06   \n",
       "1  2011-01-09          0.309399        5.067007e+06   \n",
       "2  2011-01-16          0.380429        5.124764e+06   \n",
       "\n",
       "   btc_cost_per_transaction_percent  btc_cost_per_transaction  \\\n",
       "0                         54.382899                  4.553059   \n",
       "1                         41.797444                  2.283450   \n",
       "2                         28.004795                  2.794146   \n",
       "\n",
       "   btc_n_transactions_total  btc_estimated_transaction_volume_usd  id  \n",
       "0             219086.000000                           4965.000000   1  \n",
       "1             223286.000000                           6147.285714   2  \n",
       "2             231698.428571                          14005.142857   3  "
      ]
     },
     "execution_count": 182,
     "metadata": {},
     "output_type": "execute_result"
    }
   ],
   "source": [
    "pd.read_sql_query('SELECT * FROM bitcoin', con = engine).head(3)"
   ]
  },
  {
   "cell_type": "code",
   "execution_count": 184,
   "metadata": {},
   "outputs": [],
   "source": [
    "tcp_db.to_sql(name='tcp', con=engine, if_exists='append', index=False)"
   ]
  },
  {
   "cell_type": "code",
   "execution_count": 186,
   "metadata": {},
   "outputs": [
    {
     "data": {
      "text/html": [
       "<div>\n",
       "<style scoped>\n",
       "    .dataframe tbody tr th:only-of-type {\n",
       "        vertical-align: middle;\n",
       "    }\n",
       "\n",
       "    .dataframe tbody tr th {\n",
       "        vertical-align: top;\n",
       "    }\n",
       "\n",
       "    .dataframe thead th {\n",
       "        text-align: right;\n",
       "    }\n",
       "</style>\n",
       "<table border=\"1\" class=\"dataframe\">\n",
       "  <thead>\n",
       "    <tr style=\"text-align: right;\">\n",
       "      <th></th>\n",
       "      <th>date</th>\n",
       "      <th>dolar</th>\n",
       "      <th>id</th>\n",
       "    </tr>\n",
       "  </thead>\n",
       "  <tbody>\n",
       "    <tr>\n",
       "      <th>0</th>\n",
       "      <td>2011-01-02</td>\n",
       "      <td>12.0170</td>\n",
       "      <td>1</td>\n",
       "    </tr>\n",
       "    <tr>\n",
       "      <th>1</th>\n",
       "      <td>2011-01-09</td>\n",
       "      <td>11.8686</td>\n",
       "      <td>2</td>\n",
       "    </tr>\n",
       "  </tbody>\n",
       "</table>\n",
       "</div>"
      ],
      "text/plain": [
       "         date    dolar  id\n",
       "0  2011-01-02  12.0170   1\n",
       "1  2011-01-09  11.8686   2"
      ]
     },
     "execution_count": 186,
     "metadata": {},
     "output_type": "execute_result"
    }
   ],
   "source": [
    "pd.read_sql_query('SELECT * FROM tcp', con = engine).head(2)"
   ]
  },
  {
   "cell_type": "code",
   "execution_count": null,
   "metadata": {},
   "outputs": [],
   "source": []
  }
 ],
 "metadata": {
  "kernelspec": {
   "display_name": "Python 3",
   "language": "python",
   "name": "python3"
  },
  "language_info": {
   "codemirror_mode": {
    "name": "ipython",
    "version": 3
   },
   "file_extension": ".py",
   "mimetype": "text/x-python",
   "name": "python",
   "nbconvert_exporter": "python",
   "pygments_lexer": "ipython3",
   "version": "3.7.1"
  }
 },
 "nbformat": 4,
 "nbformat_minor": 2
}
